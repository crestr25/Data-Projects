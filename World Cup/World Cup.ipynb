{
  "cells": [
    {
      "cell_type": "code",
      "source": [],
      "metadata": {
        "id": "0fYxtcFMBxmU"
      },
      "execution_count": 181,
      "outputs": []
    },
    {
      "cell_type": "code",
      "source": [
        "!pip install pycountry"
      ],
      "metadata": {
        "id": "M8iCF1c4z61C"
      },
      "execution_count": null,
      "outputs": []
    },
    {
      "cell_type": "code",
      "execution_count": 32,
      "metadata": {
        "id": "4cj3yp-To_WF"
      },
      "outputs": [],
      "source": [
        "import pandas as pd\n",
        "import numpy as np"
      ]
    },
    {
      "cell_type": "code",
      "execution_count": null,
      "metadata": {
        "id": "JrV6dhNUo_WJ"
      },
      "outputs": [],
      "source": [
        "# Datos desde el local\n",
        "data_matches = pd.read_csv(\"files/WorldCupMatches.csv\")\n",
        "data_players = pd.read_csv(\"files/WorldCupPlayers.csv\")\n",
        "data_wc = pd.read_csv(\"files/WorldCups.csv\")"
      ]
    },
    {
      "cell_type": "code",
      "source": [
        "# Datos desde drive\n",
        "data_matches = pd.read_csv(\"/content/drive/MyDrive/Carlos/Files/WorldCupMatches.csv\")\n",
        "data_fifa_23 = pd.read_csv('/content/drive/MyDrive/Carlos/Files/FIFA23_official_data.csv')"
      ],
      "metadata": {
        "id": "96VdhZlPtdvF"
      },
      "execution_count": 175,
      "outputs": []
    },
    {
      "cell_type": "code",
      "source": [
        "# Elimino Columnas a ojo\n",
        "data_fifa_23.drop(['ID', 'Photo', 'Flag', 'Club', 'Club Logo', 'Release Clause', 'Kit Number', 'Contract Valid Until',\n",
        "                   'Real Face', 'Body Type', 'Work Rate', 'Position', 'Loaned From', 'Name', 'Preferred Foot', 'Wage'], axis=1, inplace=True)"
      ],
      "metadata": {
        "id": "WIh3CFFUt2ib"
      },
      "execution_count": 176,
      "outputs": []
    },
    {
      "cell_type": "code",
      "source": [
        "data_fifa_grouped = data_fifa_23.groupby(['Nationality']).mean()"
      ],
      "metadata": {
        "id": "MBBjiH8mwCZk"
      },
      "execution_count": 199,
      "outputs": []
    },
    {
      "cell_type": "code",
      "source": [
        "data_fifa_grouped = data_fifa_grouped.reset_index(level=0)"
      ],
      "metadata": {
        "id": "lwtxNwnu14ZY"
      },
      "execution_count": 200,
      "outputs": []
    },
    {
      "cell_type": "markdown",
      "metadata": {
        "id": "9rBjG3-4o_WK"
      },
      "source": [
        "## Matches DB"
      ]
    },
    {
      "cell_type": "code",
      "execution_count": null,
      "metadata": {
        "id": "lVyrK8Txo_WL"
      },
      "outputs": [],
      "source": [
        "# check data\n",
        "data_matches.head()"
      ]
    },
    {
      "cell_type": "code",
      "source": [
        "diccionario_"
      ],
      "metadata": {
        "id": "Ip3Lpx5qRnJg"
      },
      "execution_count": null,
      "outputs": []
    },
    {
      "cell_type": "code",
      "source": [
        "data_matches[data_matches['Away Team Name'] == 'Qatar'] "
      ],
      "metadata": {
        "id": "uSJY4rQ2IJBN",
        "outputId": "39593d15-f2d7-489b-d6b3-bf37c00f6d64",
        "colab": {
          "base_uri": "https://localhost:8080/",
          "height": 111
        }
      },
      "execution_count": 208,
      "outputs": [
        {
          "output_type": "execute_result",
          "data": {
            "text/plain": [
              "Empty DataFrame\n",
              "Columns: [Year, Stage, Home Team Name, Home Team Goals, Away Team Goals, Away Team Name, Win conditions, Half-time Home Goals, Half-time Away Goals, Home Team Initials, Away Team Initials]\n",
              "Index: []"
            ],
            "text/html": [
              "\n",
              "  <div id=\"df-a69e95bf-f1ed-40b1-be5d-1a690f1e1d30\">\n",
              "    <div class=\"colab-df-container\">\n",
              "      <div>\n",
              "<style scoped>\n",
              "    .dataframe tbody tr th:only-of-type {\n",
              "        vertical-align: middle;\n",
              "    }\n",
              "\n",
              "    .dataframe tbody tr th {\n",
              "        vertical-align: top;\n",
              "    }\n",
              "\n",
              "    .dataframe thead th {\n",
              "        text-align: right;\n",
              "    }\n",
              "</style>\n",
              "<table border=\"1\" class=\"dataframe\">\n",
              "  <thead>\n",
              "    <tr style=\"text-align: right;\">\n",
              "      <th></th>\n",
              "      <th>Year</th>\n",
              "      <th>Stage</th>\n",
              "      <th>Home Team Name</th>\n",
              "      <th>Home Team Goals</th>\n",
              "      <th>Away Team Goals</th>\n",
              "      <th>Away Team Name</th>\n",
              "      <th>Win conditions</th>\n",
              "      <th>Half-time Home Goals</th>\n",
              "      <th>Half-time Away Goals</th>\n",
              "      <th>Home Team Initials</th>\n",
              "      <th>Away Team Initials</th>\n",
              "    </tr>\n",
              "  </thead>\n",
              "  <tbody>\n",
              "  </tbody>\n",
              "</table>\n",
              "</div>\n",
              "      <button class=\"colab-df-convert\" onclick=\"convertToInteractive('df-a69e95bf-f1ed-40b1-be5d-1a690f1e1d30')\"\n",
              "              title=\"Convert this dataframe to an interactive table.\"\n",
              "              style=\"display:none;\">\n",
              "        \n",
              "  <svg xmlns=\"http://www.w3.org/2000/svg\" height=\"24px\"viewBox=\"0 0 24 24\"\n",
              "       width=\"24px\">\n",
              "    <path d=\"M0 0h24v24H0V0z\" fill=\"none\"/>\n",
              "    <path d=\"M18.56 5.44l.94 2.06.94-2.06 2.06-.94-2.06-.94-.94-2.06-.94 2.06-2.06.94zm-11 1L8.5 8.5l.94-2.06 2.06-.94-2.06-.94L8.5 2.5l-.94 2.06-2.06.94zm10 10l.94 2.06.94-2.06 2.06-.94-2.06-.94-.94-2.06-.94 2.06-2.06.94z\"/><path d=\"M17.41 7.96l-1.37-1.37c-.4-.4-.92-.59-1.43-.59-.52 0-1.04.2-1.43.59L10.3 9.45l-7.72 7.72c-.78.78-.78 2.05 0 2.83L4 21.41c.39.39.9.59 1.41.59.51 0 1.02-.2 1.41-.59l7.78-7.78 2.81-2.81c.8-.78.8-2.07 0-2.86zM5.41 20L4 18.59l7.72-7.72 1.47 1.35L5.41 20z\"/>\n",
              "  </svg>\n",
              "      </button>\n",
              "      \n",
              "  <style>\n",
              "    .colab-df-container {\n",
              "      display:flex;\n",
              "      flex-wrap:wrap;\n",
              "      gap: 12px;\n",
              "    }\n",
              "\n",
              "    .colab-df-convert {\n",
              "      background-color: #E8F0FE;\n",
              "      border: none;\n",
              "      border-radius: 50%;\n",
              "      cursor: pointer;\n",
              "      display: none;\n",
              "      fill: #1967D2;\n",
              "      height: 32px;\n",
              "      padding: 0 0 0 0;\n",
              "      width: 32px;\n",
              "    }\n",
              "\n",
              "    .colab-df-convert:hover {\n",
              "      background-color: #E2EBFA;\n",
              "      box-shadow: 0px 1px 2px rgba(60, 64, 67, 0.3), 0px 1px 3px 1px rgba(60, 64, 67, 0.15);\n",
              "      fill: #174EA6;\n",
              "    }\n",
              "\n",
              "    [theme=dark] .colab-df-convert {\n",
              "      background-color: #3B4455;\n",
              "      fill: #D2E3FC;\n",
              "    }\n",
              "\n",
              "    [theme=dark] .colab-df-convert:hover {\n",
              "      background-color: #434B5C;\n",
              "      box-shadow: 0px 1px 3px 1px rgba(0, 0, 0, 0.15);\n",
              "      filter: drop-shadow(0px 1px 2px rgba(0, 0, 0, 0.3));\n",
              "      fill: #FFFFFF;\n",
              "    }\n",
              "  </style>\n",
              "\n",
              "      <script>\n",
              "        const buttonEl =\n",
              "          document.querySelector('#df-a69e95bf-f1ed-40b1-be5d-1a690f1e1d30 button.colab-df-convert');\n",
              "        buttonEl.style.display =\n",
              "          google.colab.kernel.accessAllowed ? 'block' : 'none';\n",
              "\n",
              "        async function convertToInteractive(key) {\n",
              "          const element = document.querySelector('#df-a69e95bf-f1ed-40b1-be5d-1a690f1e1d30');\n",
              "          const dataTable =\n",
              "            await google.colab.kernel.invokeFunction('convertToInteractive',\n",
              "                                                     [key], {});\n",
              "          if (!dataTable) return;\n",
              "\n",
              "          const docLinkHtml = 'Like what you see? Visit the ' +\n",
              "            '<a target=\"_blank\" href=https://colab.research.google.com/notebooks/data_table.ipynb>data table notebook</a>'\n",
              "            + ' to learn more about interactive tables.';\n",
              "          element.innerHTML = '';\n",
              "          dataTable['output_type'] = 'display_data';\n",
              "          await google.colab.output.renderOutput(dataTable, element);\n",
              "          const docLink = document.createElement('div');\n",
              "          docLink.innerHTML = docLinkHtml;\n",
              "          element.appendChild(docLink);\n",
              "        }\n",
              "      </script>\n",
              "    </div>\n",
              "  </div>\n",
              "  "
            ]
          },
          "metadata": {},
          "execution_count": 208
        }
      ]
    },
    {
      "cell_type": "code",
      "execution_count": null,
      "metadata": {
        "id": "Fq3AlJrCo_WM"
      },
      "outputs": [],
      "source": [
        "# some of the 2014 matches have multiple entries which we must remove\n",
        "data_matches[data_matches[\"MatchID\"].isin(data_matches[\"MatchID\"][data_matches[\"MatchID\"].duplicated()])]"
      ]
    },
    {
      "cell_type": "code",
      "execution_count": 184,
      "metadata": {
        "id": "YViLR5tbo_WN"
      },
      "outputs": [],
      "source": [
        "# Remove AR entry for 2014 final since it will not be removed by the func\n",
        "data_matches.drop(851, inplace=True)"
      ]
    },
    {
      "cell_type": "code",
      "execution_count": 185,
      "metadata": {
        "id": "jp6O0W7Fo_WN"
      },
      "outputs": [],
      "source": [
        "# Remove Repeated entries\n",
        "data_matches.drop_duplicates(inplace=True)"
      ]
    },
    {
      "cell_type": "code",
      "execution_count": 186,
      "metadata": {
        "id": "N-sgWEWzo_WO"
      },
      "outputs": [],
      "source": [
        "# Drop some columns by eye\n",
        "data_matches.drop(['Referee', 'Assistant 1', 'Assistant 2', 'RoundID', 'MatchID', 'Attendance', 'Stadium', 'City', 'Datetime'], axis=1, inplace=True)"
      ]
    },
    {
      "cell_type": "code",
      "source": [
        "data_matches_model = data_matches.copy()"
      ],
      "metadata": {
        "id": "gNxir6brDH0g"
      },
      "execution_count": 187,
      "outputs": []
    },
    {
      "cell_type": "code",
      "source": [
        "# filter by wc attendants\n",
        "data_matches_model = data_matches_model[(data_matches_model['Home Team Name'].isin(countries_in_wc)) & (data_matches_model['Away Team Name'].isin(countries_in_wc))]"
      ],
      "metadata": {
        "id": "HH4qYSJABu40"
      },
      "execution_count": 188,
      "outputs": []
    },
    {
      "cell_type": "code",
      "source": [
        "data_matches_model[data_matches_model['Away Team Name'] == 'Iran'] "
      ],
      "metadata": {
        "id": "L_UQNG4fEN32",
        "outputId": "1fd852a0-071d-4444-9055-641ee55bf5aa",
        "colab": {
          "base_uri": "https://localhost:8080/",
          "height": 208
        }
      },
      "execution_count": 191,
      "outputs": [
        {
          "output_type": "execute_result",
          "data": {
            "text/plain": [
              "     Year    Stage Home Team Name  Home Team Goals  Away Team Goals  \\\n",
              "558  1998  Group F        Germany                2                0   \n",
              "650  2006  Group D         Mexico                3                1   \n",
              "\n",
              "    Away Team Name Win conditions  Half-time Home Goals  Half-time Away Goals  \\\n",
              "558           Iran                                    0                     0   \n",
              "650           Iran                                    1                     1   \n",
              "\n",
              "    Home Team Initials Away Team Initials  \n",
              "558                GER                IRN  \n",
              "650                MEX                IRN  "
            ],
            "text/html": [
              "\n",
              "  <div id=\"df-9e5cbad9-412e-43a7-b031-f5bca8a083ce\">\n",
              "    <div class=\"colab-df-container\">\n",
              "      <div>\n",
              "<style scoped>\n",
              "    .dataframe tbody tr th:only-of-type {\n",
              "        vertical-align: middle;\n",
              "    }\n",
              "\n",
              "    .dataframe tbody tr th {\n",
              "        vertical-align: top;\n",
              "    }\n",
              "\n",
              "    .dataframe thead th {\n",
              "        text-align: right;\n",
              "    }\n",
              "</style>\n",
              "<table border=\"1\" class=\"dataframe\">\n",
              "  <thead>\n",
              "    <tr style=\"text-align: right;\">\n",
              "      <th></th>\n",
              "      <th>Year</th>\n",
              "      <th>Stage</th>\n",
              "      <th>Home Team Name</th>\n",
              "      <th>Home Team Goals</th>\n",
              "      <th>Away Team Goals</th>\n",
              "      <th>Away Team Name</th>\n",
              "      <th>Win conditions</th>\n",
              "      <th>Half-time Home Goals</th>\n",
              "      <th>Half-time Away Goals</th>\n",
              "      <th>Home Team Initials</th>\n",
              "      <th>Away Team Initials</th>\n",
              "    </tr>\n",
              "  </thead>\n",
              "  <tbody>\n",
              "    <tr>\n",
              "      <th>558</th>\n",
              "      <td>1998</td>\n",
              "      <td>Group F</td>\n",
              "      <td>Germany</td>\n",
              "      <td>2</td>\n",
              "      <td>0</td>\n",
              "      <td>Iran</td>\n",
              "      <td></td>\n",
              "      <td>0</td>\n",
              "      <td>0</td>\n",
              "      <td>GER</td>\n",
              "      <td>IRN</td>\n",
              "    </tr>\n",
              "    <tr>\n",
              "      <th>650</th>\n",
              "      <td>2006</td>\n",
              "      <td>Group D</td>\n",
              "      <td>Mexico</td>\n",
              "      <td>3</td>\n",
              "      <td>1</td>\n",
              "      <td>Iran</td>\n",
              "      <td></td>\n",
              "      <td>1</td>\n",
              "      <td>1</td>\n",
              "      <td>MEX</td>\n",
              "      <td>IRN</td>\n",
              "    </tr>\n",
              "  </tbody>\n",
              "</table>\n",
              "</div>\n",
              "      <button class=\"colab-df-convert\" onclick=\"convertToInteractive('df-9e5cbad9-412e-43a7-b031-f5bca8a083ce')\"\n",
              "              title=\"Convert this dataframe to an interactive table.\"\n",
              "              style=\"display:none;\">\n",
              "        \n",
              "  <svg xmlns=\"http://www.w3.org/2000/svg\" height=\"24px\"viewBox=\"0 0 24 24\"\n",
              "       width=\"24px\">\n",
              "    <path d=\"M0 0h24v24H0V0z\" fill=\"none\"/>\n",
              "    <path d=\"M18.56 5.44l.94 2.06.94-2.06 2.06-.94-2.06-.94-.94-2.06-.94 2.06-2.06.94zm-11 1L8.5 8.5l.94-2.06 2.06-.94-2.06-.94L8.5 2.5l-.94 2.06-2.06.94zm10 10l.94 2.06.94-2.06 2.06-.94-2.06-.94-.94-2.06-.94 2.06-2.06.94z\"/><path d=\"M17.41 7.96l-1.37-1.37c-.4-.4-.92-.59-1.43-.59-.52 0-1.04.2-1.43.59L10.3 9.45l-7.72 7.72c-.78.78-.78 2.05 0 2.83L4 21.41c.39.39.9.59 1.41.59.51 0 1.02-.2 1.41-.59l7.78-7.78 2.81-2.81c.8-.78.8-2.07 0-2.86zM5.41 20L4 18.59l7.72-7.72 1.47 1.35L5.41 20z\"/>\n",
              "  </svg>\n",
              "      </button>\n",
              "      \n",
              "  <style>\n",
              "    .colab-df-container {\n",
              "      display:flex;\n",
              "      flex-wrap:wrap;\n",
              "      gap: 12px;\n",
              "    }\n",
              "\n",
              "    .colab-df-convert {\n",
              "      background-color: #E8F0FE;\n",
              "      border: none;\n",
              "      border-radius: 50%;\n",
              "      cursor: pointer;\n",
              "      display: none;\n",
              "      fill: #1967D2;\n",
              "      height: 32px;\n",
              "      padding: 0 0 0 0;\n",
              "      width: 32px;\n",
              "    }\n",
              "\n",
              "    .colab-df-convert:hover {\n",
              "      background-color: #E2EBFA;\n",
              "      box-shadow: 0px 1px 2px rgba(60, 64, 67, 0.3), 0px 1px 3px 1px rgba(60, 64, 67, 0.15);\n",
              "      fill: #174EA6;\n",
              "    }\n",
              "\n",
              "    [theme=dark] .colab-df-convert {\n",
              "      background-color: #3B4455;\n",
              "      fill: #D2E3FC;\n",
              "    }\n",
              "\n",
              "    [theme=dark] .colab-df-convert:hover {\n",
              "      background-color: #434B5C;\n",
              "      box-shadow: 0px 1px 3px 1px rgba(0, 0, 0, 0.15);\n",
              "      filter: drop-shadow(0px 1px 2px rgba(0, 0, 0, 0.3));\n",
              "      fill: #FFFFFF;\n",
              "    }\n",
              "  </style>\n",
              "\n",
              "      <script>\n",
              "        const buttonEl =\n",
              "          document.querySelector('#df-9e5cbad9-412e-43a7-b031-f5bca8a083ce button.colab-df-convert');\n",
              "        buttonEl.style.display =\n",
              "          google.colab.kernel.accessAllowed ? 'block' : 'none';\n",
              "\n",
              "        async function convertToInteractive(key) {\n",
              "          const element = document.querySelector('#df-9e5cbad9-412e-43a7-b031-f5bca8a083ce');\n",
              "          const dataTable =\n",
              "            await google.colab.kernel.invokeFunction('convertToInteractive',\n",
              "                                                     [key], {});\n",
              "          if (!dataTable) return;\n",
              "\n",
              "          const docLinkHtml = 'Like what you see? Visit the ' +\n",
              "            '<a target=\"_blank\" href=https://colab.research.google.com/notebooks/data_table.ipynb>data table notebook</a>'\n",
              "            + ' to learn more about interactive tables.';\n",
              "          element.innerHTML = '';\n",
              "          dataTable['output_type'] = 'display_data';\n",
              "          await google.colab.output.renderOutput(dataTable, element);\n",
              "          const docLink = document.createElement('div');\n",
              "          docLink.innerHTML = docLinkHtml;\n",
              "          element.appendChild(docLink);\n",
              "        }\n",
              "      </script>\n",
              "    </div>\n",
              "  </div>\n",
              "  "
            ]
          },
          "metadata": {},
          "execution_count": 191
        }
      ]
    },
    {
      "cell_type": "code",
      "execution_count": 192,
      "metadata": {
        "id": "3X36t55xo_WP"
      },
      "outputs": [],
      "source": [
        "# Functions that will help cleaning the dataset\n",
        "def get_winner(df, cat=False):\n",
        "    \"\"\"\n",
        "    Get the winner from the dataset based on goals\n",
        "    \"\"\"\n",
        "    if df['Home Team Goals'] > df['Away Team Goals']:\n",
        "        return df['Home Team Initials'] if not cat else 1\n",
        "    return df['Away Team Initials'] if not cat else 0\n",
        "\n",
        "def get_country_name(df):\n",
        "  \"\"\"\n",
        "  Get the country names\n",
        "  \"\"\"\n",
        "  try:\n",
        "    return pycountry.countries.get(name=df['Nationality']).alpha_3\n",
        "  except:\n",
        "    return None\n",
        "\n",
        "def get_loser(df):\n",
        "    \"\"\"\n",
        "    Get the loser from the dataset based on goals\n",
        "    \"\"\"\n",
        "    if df['Home Team Goals'] < df['Away Team Goals']:\n",
        "        return df['Home Team Initials']\n",
        "    return df['Away Team Initials']\n",
        "\n",
        "\n",
        "def clean_stage(df):\n",
        "    \"\"\"\n",
        "    Remove the groups x and replace it just with Groups\n",
        "    \"\"\"\n",
        "    if df['Stage'].__contains__('Group'):\n",
        "        return 'Group'\n",
        "    return df['Stage']\n",
        "\n",
        "def loser(rows):\n",
        "    c = 0\n",
        "    for row in rows:\n",
        "        print(row)\n",
        "        if row[\"Loser Team\"] == row['Winner Team']:\n",
        "            c += 1\n",
        "\n",
        "    return c "
      ]
    },
    {
      "cell_type": "code",
      "execution_count": 193,
      "metadata": {
        "id": "M167WdAJo_WP"
      },
      "outputs": [],
      "source": [
        "data_matches_model['Winner Team'] = data_matches_model.apply(lambda row: get_winner(row), axis=1)\n",
        "data_matches_model['Loser Team'] = data_matches_model.apply(lambda row: get_loser(row), axis=1)\n",
        "data_matches_model['Stage'] = data_matches_model.apply(lambda row: clean_stage(row), axis=1)"
      ]
    },
    {
      "cell_type": "code",
      "execution_count": 194,
      "metadata": {
        "id": "0ALORjelo_WQ"
      },
      "outputs": [],
      "source": [
        "loses_count = data_matches_model.groupby([\"Loser Team\", \"Stage\"], as_index=False)[\"Year\"].count().rename(columns={'Year': 'Loses', \"Loser Team\": \"Country\"})"
      ]
    },
    {
      "cell_type": "code",
      "execution_count": 195,
      "metadata": {
        "id": "jSCJacrjo_WQ"
      },
      "outputs": [],
      "source": [
        "winner_count = data_matches_model.groupby([\"Winner Team\", \"Stage\"], as_index=False)[\"Year\"].count().rename(columns={\"Winner Team\": \"Country\", 'Year': 'Wins'})"
      ]
    },
    {
      "cell_type": "code",
      "execution_count": 196,
      "metadata": {
        "id": "N0vc2qoYo_WQ",
        "outputId": "9da79ec5-1e94-4288-8e21-ea4998278bf6",
        "colab": {
          "base_uri": "https://localhost:8080/"
        }
      },
      "outputs": [
        {
          "output_type": "stream",
          "name": "stderr",
          "text": [
            "/usr/local/lib/python3.7/dist-packages/ipykernel_launcher.py:1: FutureWarning: Indexing with multiple keys (implicitly converted to a tuple of keys) will be deprecated, use a list instead.\n",
            "  \"\"\"Entry point for launching an IPython kernel.\n"
          ]
        }
      ],
      "source": [
        "agg_data = data_matches_model.groupby([\"Winner Team\", \"Stage\"], as_index=False)['Home Team Goals', \"Away Team Goals\", \"Half-time Home Goals\", \"Half-time Away Goals\"].mean().rename(columns={\"Winner Team\": \"Country\"})"
      ]
    },
    {
      "cell_type": "code",
      "execution_count": null,
      "metadata": {
        "id": "HzOz3Rrwo_WQ"
      },
      "outputs": [],
      "source": [
        "import functools as ft\n",
        "data_matches_final = ft.reduce(lambda left, right: pd.merge(left, right, on=['Country', \"Stage\"]), [loses_count, winner_count, agg_data])\n",
        "data_matches_final"
      ]
    },
    {
      "cell_type": "code",
      "source": [
        "data_fifa_grouped['Country Code'] = data_fifa_grouped.apply(lambda row: get_country_name(row), axis=1)"
      ],
      "metadata": {
        "id": "ol2WrAYD7Nta"
      },
      "execution_count": 201,
      "outputs": []
    },
    {
      "cell_type": "code",
      "source": [
        "# Fix the missing countries\n",
        "data_fifa_grouped[data_fifa_grouped['Country Code'].isnull()]\n",
        "missing_countries = {'Wales': 'WAL', 'England': 'ENG', 'Germany': 'GER', 'Costa Rica': 'CRC'}"
      ],
      "metadata": {
        "id": "9vilbboZ_ZBx"
      },
      "execution_count": 202,
      "outputs": []
    },
    {
      "cell_type": "code",
      "source": [],
      "metadata": {
        "id": "mc4c_jNKAupH"
      },
      "execution_count": 112,
      "outputs": []
    },
    {
      "cell_type": "code",
      "source": [
        "data_merged = pd.merge(data_matches_final, data_fifa_grouped, left_on='Country', right_on='Country Code', how='left')"
      ],
      "metadata": {
        "id": "HE9aZwf3971m"
      },
      "execution_count": 203,
      "outputs": []
    },
    {
      "cell_type": "code",
      "source": [
        "data_merged"
      ],
      "metadata": {
        "id": "Sv0LOy-2BZ8m"
      },
      "execution_count": null,
      "outputs": []
    },
    {
      "cell_type": "markdown",
      "metadata": {
        "id": "Fxh_Orlpo_WR"
      },
      "source": [
        "## Model"
      ]
    },
    {
      "cell_type": "code",
      "source": [],
      "metadata": {
        "id": "3atbmSF97M6D"
      },
      "execution_count": null,
      "outputs": []
    },
    {
      "cell_type": "code",
      "execution_count": 205,
      "metadata": {
        "id": "AG46cxtWo_WR"
      },
      "outputs": [],
      "source": [
        "data_matches_model.drop([\"Year\", \"Home Team Name\", \"Win conditions\", \"Away Team Name\"], inplace=True, axis=1)"
      ]
    },
    {
      "cell_type": "code",
      "execution_count": 206,
      "metadata": {
        "id": "pXsF6uqDo_WR"
      },
      "outputs": [],
      "source": [
        "data_matches_model['Winner Team'] = data_matches_model.apply(lambda row: get_winner(row, cat=True), axis=1)\n",
        "data_matches_model['Stage'] = data_matches_model.apply(lambda row: clean_stage(row), axis=1)"
      ]
    },
    {
      "cell_type": "code",
      "execution_count": 207,
      "metadata": {
        "id": "3WfIrSMco_WS",
        "outputId": "267418fa-999f-4117-903c-74b2c055f268",
        "colab": {
          "base_uri": "https://localhost:8080/",
          "height": 672
        }
      },
      "outputs": [
        {
          "output_type": "execute_result",
          "data": {
            "text/plain": [
              "     Home Team Goals  Away Team Goals  Half-time Home Goals  \\\n",
              "0                  4                1                     3   \n",
              "4                  1                0                     0   \n",
              "10                 6                3                     3   \n",
              "17                 4                2                     1   \n",
              "20                 3                2                     2   \n",
              "..               ...              ...                   ...   \n",
              "829                0                0                     0   \n",
              "830                0                0                     0   \n",
              "831                1                0                     1   \n",
              "832                2                1                     0   \n",
              "834                1                0                     0   \n",
              "\n",
              "     Half-time Away Goals Home Team Initials Away Team Initials  Winner Team  \\\n",
              "0                       0                FRA                MEX            1   \n",
              "4                       0                ARG                FRA            1   \n",
              "10                      1                ARG                MEX            1   \n",
              "17                      2                URU                ARG            1   \n",
              "20                      1                SUI                NED            1   \n",
              "..                    ...                ...                ...          ...   \n",
              "829                     0                NED                ARG            0   \n",
              "830                     0                NED                CRC            0   \n",
              "831                     0                ARG                BEL            1   \n",
              "832                     0                NED                MEX            1   \n",
              "834                     0                ARG                SUI            1   \n",
              "\n",
              "    Loser Team  Stage__Final  Stage__First round  Stage__Group  \\\n",
              "0          MEX             0                   0             1   \n",
              "4          FRA             0                   0             1   \n",
              "10         MEX             0                   0             1   \n",
              "17         ARG             1                   0             0   \n",
              "20         NED             0                   0             0   \n",
              "..         ...           ...                 ...           ...   \n",
              "829        ARG             0                   0             0   \n",
              "830        CRC             0                   0             0   \n",
              "831        BEL             0                   0             0   \n",
              "832        MEX             0                   0             0   \n",
              "834        SUI             0                   0             0   \n",
              "\n",
              "     Stage__Match for third place  Stage__Play-off for third place  \\\n",
              "0                               0                                0   \n",
              "4                               0                                0   \n",
              "10                              0                                0   \n",
              "17                              0                                0   \n",
              "20                              0                                0   \n",
              "..                            ...                              ...   \n",
              "829                             0                                0   \n",
              "830                             0                                0   \n",
              "831                             0                                0   \n",
              "832                             0                                0   \n",
              "834                             0                                0   \n",
              "\n",
              "     Stage__Preliminary round  Stage__Quarter-finals  Stage__Round of 16  \\\n",
              "0                           0                      0                   0   \n",
              "4                           0                      0                   0   \n",
              "10                          0                      0                   0   \n",
              "17                          0                      0                   0   \n",
              "20                          1                      0                   0   \n",
              "..                        ...                    ...                 ...   \n",
              "829                         0                      0                   0   \n",
              "830                         0                      1                   0   \n",
              "831                         0                      1                   0   \n",
              "832                         0                      0                   1   \n",
              "834                         0                      0                   1   \n",
              "\n",
              "     Stage__Semi-finals  Stage__Third place  \n",
              "0                     0                   0  \n",
              "4                     0                   0  \n",
              "10                    0                   0  \n",
              "17                    0                   0  \n",
              "20                    0                   0  \n",
              "..                  ...                 ...  \n",
              "829                   1                   0  \n",
              "830                   0                   0  \n",
              "831                   0                   0  \n",
              "832                   0                   0  \n",
              "834                   0                   0  \n",
              "\n",
              "[233 rows x 18 columns]"
            ],
            "text/html": [
              "\n",
              "  <div id=\"df-0a82feb6-c1df-4184-8f0a-4f89170cefe3\">\n",
              "    <div class=\"colab-df-container\">\n",
              "      <div>\n",
              "<style scoped>\n",
              "    .dataframe tbody tr th:only-of-type {\n",
              "        vertical-align: middle;\n",
              "    }\n",
              "\n",
              "    .dataframe tbody tr th {\n",
              "        vertical-align: top;\n",
              "    }\n",
              "\n",
              "    .dataframe thead th {\n",
              "        text-align: right;\n",
              "    }\n",
              "</style>\n",
              "<table border=\"1\" class=\"dataframe\">\n",
              "  <thead>\n",
              "    <tr style=\"text-align: right;\">\n",
              "      <th></th>\n",
              "      <th>Home Team Goals</th>\n",
              "      <th>Away Team Goals</th>\n",
              "      <th>Half-time Home Goals</th>\n",
              "      <th>Half-time Away Goals</th>\n",
              "      <th>Home Team Initials</th>\n",
              "      <th>Away Team Initials</th>\n",
              "      <th>Winner Team</th>\n",
              "      <th>Loser Team</th>\n",
              "      <th>Stage__Final</th>\n",
              "      <th>Stage__First round</th>\n",
              "      <th>Stage__Group</th>\n",
              "      <th>Stage__Match for third place</th>\n",
              "      <th>Stage__Play-off for third place</th>\n",
              "      <th>Stage__Preliminary round</th>\n",
              "      <th>Stage__Quarter-finals</th>\n",
              "      <th>Stage__Round of 16</th>\n",
              "      <th>Stage__Semi-finals</th>\n",
              "      <th>Stage__Third place</th>\n",
              "    </tr>\n",
              "  </thead>\n",
              "  <tbody>\n",
              "    <tr>\n",
              "      <th>0</th>\n",
              "      <td>4</td>\n",
              "      <td>1</td>\n",
              "      <td>3</td>\n",
              "      <td>0</td>\n",
              "      <td>FRA</td>\n",
              "      <td>MEX</td>\n",
              "      <td>1</td>\n",
              "      <td>MEX</td>\n",
              "      <td>0</td>\n",
              "      <td>0</td>\n",
              "      <td>1</td>\n",
              "      <td>0</td>\n",
              "      <td>0</td>\n",
              "      <td>0</td>\n",
              "      <td>0</td>\n",
              "      <td>0</td>\n",
              "      <td>0</td>\n",
              "      <td>0</td>\n",
              "    </tr>\n",
              "    <tr>\n",
              "      <th>4</th>\n",
              "      <td>1</td>\n",
              "      <td>0</td>\n",
              "      <td>0</td>\n",
              "      <td>0</td>\n",
              "      <td>ARG</td>\n",
              "      <td>FRA</td>\n",
              "      <td>1</td>\n",
              "      <td>FRA</td>\n",
              "      <td>0</td>\n",
              "      <td>0</td>\n",
              "      <td>1</td>\n",
              "      <td>0</td>\n",
              "      <td>0</td>\n",
              "      <td>0</td>\n",
              "      <td>0</td>\n",
              "      <td>0</td>\n",
              "      <td>0</td>\n",
              "      <td>0</td>\n",
              "    </tr>\n",
              "    <tr>\n",
              "      <th>10</th>\n",
              "      <td>6</td>\n",
              "      <td>3</td>\n",
              "      <td>3</td>\n",
              "      <td>1</td>\n",
              "      <td>ARG</td>\n",
              "      <td>MEX</td>\n",
              "      <td>1</td>\n",
              "      <td>MEX</td>\n",
              "      <td>0</td>\n",
              "      <td>0</td>\n",
              "      <td>1</td>\n",
              "      <td>0</td>\n",
              "      <td>0</td>\n",
              "      <td>0</td>\n",
              "      <td>0</td>\n",
              "      <td>0</td>\n",
              "      <td>0</td>\n",
              "      <td>0</td>\n",
              "    </tr>\n",
              "    <tr>\n",
              "      <th>17</th>\n",
              "      <td>4</td>\n",
              "      <td>2</td>\n",
              "      <td>1</td>\n",
              "      <td>2</td>\n",
              "      <td>URU</td>\n",
              "      <td>ARG</td>\n",
              "      <td>1</td>\n",
              "      <td>ARG</td>\n",
              "      <td>1</td>\n",
              "      <td>0</td>\n",
              "      <td>0</td>\n",
              "      <td>0</td>\n",
              "      <td>0</td>\n",
              "      <td>0</td>\n",
              "      <td>0</td>\n",
              "      <td>0</td>\n",
              "      <td>0</td>\n",
              "      <td>0</td>\n",
              "    </tr>\n",
              "    <tr>\n",
              "      <th>20</th>\n",
              "      <td>3</td>\n",
              "      <td>2</td>\n",
              "      <td>2</td>\n",
              "      <td>1</td>\n",
              "      <td>SUI</td>\n",
              "      <td>NED</td>\n",
              "      <td>1</td>\n",
              "      <td>NED</td>\n",
              "      <td>0</td>\n",
              "      <td>0</td>\n",
              "      <td>0</td>\n",
              "      <td>0</td>\n",
              "      <td>0</td>\n",
              "      <td>1</td>\n",
              "      <td>0</td>\n",
              "      <td>0</td>\n",
              "      <td>0</td>\n",
              "      <td>0</td>\n",
              "    </tr>\n",
              "    <tr>\n",
              "      <th>...</th>\n",
              "      <td>...</td>\n",
              "      <td>...</td>\n",
              "      <td>...</td>\n",
              "      <td>...</td>\n",
              "      <td>...</td>\n",
              "      <td>...</td>\n",
              "      <td>...</td>\n",
              "      <td>...</td>\n",
              "      <td>...</td>\n",
              "      <td>...</td>\n",
              "      <td>...</td>\n",
              "      <td>...</td>\n",
              "      <td>...</td>\n",
              "      <td>...</td>\n",
              "      <td>...</td>\n",
              "      <td>...</td>\n",
              "      <td>...</td>\n",
              "      <td>...</td>\n",
              "    </tr>\n",
              "    <tr>\n",
              "      <th>829</th>\n",
              "      <td>0</td>\n",
              "      <td>0</td>\n",
              "      <td>0</td>\n",
              "      <td>0</td>\n",
              "      <td>NED</td>\n",
              "      <td>ARG</td>\n",
              "      <td>0</td>\n",
              "      <td>ARG</td>\n",
              "      <td>0</td>\n",
              "      <td>0</td>\n",
              "      <td>0</td>\n",
              "      <td>0</td>\n",
              "      <td>0</td>\n",
              "      <td>0</td>\n",
              "      <td>0</td>\n",
              "      <td>0</td>\n",
              "      <td>1</td>\n",
              "      <td>0</td>\n",
              "    </tr>\n",
              "    <tr>\n",
              "      <th>830</th>\n",
              "      <td>0</td>\n",
              "      <td>0</td>\n",
              "      <td>0</td>\n",
              "      <td>0</td>\n",
              "      <td>NED</td>\n",
              "      <td>CRC</td>\n",
              "      <td>0</td>\n",
              "      <td>CRC</td>\n",
              "      <td>0</td>\n",
              "      <td>0</td>\n",
              "      <td>0</td>\n",
              "      <td>0</td>\n",
              "      <td>0</td>\n",
              "      <td>0</td>\n",
              "      <td>1</td>\n",
              "      <td>0</td>\n",
              "      <td>0</td>\n",
              "      <td>0</td>\n",
              "    </tr>\n",
              "    <tr>\n",
              "      <th>831</th>\n",
              "      <td>1</td>\n",
              "      <td>0</td>\n",
              "      <td>1</td>\n",
              "      <td>0</td>\n",
              "      <td>ARG</td>\n",
              "      <td>BEL</td>\n",
              "      <td>1</td>\n",
              "      <td>BEL</td>\n",
              "      <td>0</td>\n",
              "      <td>0</td>\n",
              "      <td>0</td>\n",
              "      <td>0</td>\n",
              "      <td>0</td>\n",
              "      <td>0</td>\n",
              "      <td>1</td>\n",
              "      <td>0</td>\n",
              "      <td>0</td>\n",
              "      <td>0</td>\n",
              "    </tr>\n",
              "    <tr>\n",
              "      <th>832</th>\n",
              "      <td>2</td>\n",
              "      <td>1</td>\n",
              "      <td>0</td>\n",
              "      <td>0</td>\n",
              "      <td>NED</td>\n",
              "      <td>MEX</td>\n",
              "      <td>1</td>\n",
              "      <td>MEX</td>\n",
              "      <td>0</td>\n",
              "      <td>0</td>\n",
              "      <td>0</td>\n",
              "      <td>0</td>\n",
              "      <td>0</td>\n",
              "      <td>0</td>\n",
              "      <td>0</td>\n",
              "      <td>1</td>\n",
              "      <td>0</td>\n",
              "      <td>0</td>\n",
              "    </tr>\n",
              "    <tr>\n",
              "      <th>834</th>\n",
              "      <td>1</td>\n",
              "      <td>0</td>\n",
              "      <td>0</td>\n",
              "      <td>0</td>\n",
              "      <td>ARG</td>\n",
              "      <td>SUI</td>\n",
              "      <td>1</td>\n",
              "      <td>SUI</td>\n",
              "      <td>0</td>\n",
              "      <td>0</td>\n",
              "      <td>0</td>\n",
              "      <td>0</td>\n",
              "      <td>0</td>\n",
              "      <td>0</td>\n",
              "      <td>0</td>\n",
              "      <td>1</td>\n",
              "      <td>0</td>\n",
              "      <td>0</td>\n",
              "    </tr>\n",
              "  </tbody>\n",
              "</table>\n",
              "<p>233 rows × 18 columns</p>\n",
              "</div>\n",
              "      <button class=\"colab-df-convert\" onclick=\"convertToInteractive('df-0a82feb6-c1df-4184-8f0a-4f89170cefe3')\"\n",
              "              title=\"Convert this dataframe to an interactive table.\"\n",
              "              style=\"display:none;\">\n",
              "        \n",
              "  <svg xmlns=\"http://www.w3.org/2000/svg\" height=\"24px\"viewBox=\"0 0 24 24\"\n",
              "       width=\"24px\">\n",
              "    <path d=\"M0 0h24v24H0V0z\" fill=\"none\"/>\n",
              "    <path d=\"M18.56 5.44l.94 2.06.94-2.06 2.06-.94-2.06-.94-.94-2.06-.94 2.06-2.06.94zm-11 1L8.5 8.5l.94-2.06 2.06-.94-2.06-.94L8.5 2.5l-.94 2.06-2.06.94zm10 10l.94 2.06.94-2.06 2.06-.94-2.06-.94-.94-2.06-.94 2.06-2.06.94z\"/><path d=\"M17.41 7.96l-1.37-1.37c-.4-.4-.92-.59-1.43-.59-.52 0-1.04.2-1.43.59L10.3 9.45l-7.72 7.72c-.78.78-.78 2.05 0 2.83L4 21.41c.39.39.9.59 1.41.59.51 0 1.02-.2 1.41-.59l7.78-7.78 2.81-2.81c.8-.78.8-2.07 0-2.86zM5.41 20L4 18.59l7.72-7.72 1.47 1.35L5.41 20z\"/>\n",
              "  </svg>\n",
              "      </button>\n",
              "      \n",
              "  <style>\n",
              "    .colab-df-container {\n",
              "      display:flex;\n",
              "      flex-wrap:wrap;\n",
              "      gap: 12px;\n",
              "    }\n",
              "\n",
              "    .colab-df-convert {\n",
              "      background-color: #E8F0FE;\n",
              "      border: none;\n",
              "      border-radius: 50%;\n",
              "      cursor: pointer;\n",
              "      display: none;\n",
              "      fill: #1967D2;\n",
              "      height: 32px;\n",
              "      padding: 0 0 0 0;\n",
              "      width: 32px;\n",
              "    }\n",
              "\n",
              "    .colab-df-convert:hover {\n",
              "      background-color: #E2EBFA;\n",
              "      box-shadow: 0px 1px 2px rgba(60, 64, 67, 0.3), 0px 1px 3px 1px rgba(60, 64, 67, 0.15);\n",
              "      fill: #174EA6;\n",
              "    }\n",
              "\n",
              "    [theme=dark] .colab-df-convert {\n",
              "      background-color: #3B4455;\n",
              "      fill: #D2E3FC;\n",
              "    }\n",
              "\n",
              "    [theme=dark] .colab-df-convert:hover {\n",
              "      background-color: #434B5C;\n",
              "      box-shadow: 0px 1px 3px 1px rgba(0, 0, 0, 0.15);\n",
              "      filter: drop-shadow(0px 1px 2px rgba(0, 0, 0, 0.3));\n",
              "      fill: #FFFFFF;\n",
              "    }\n",
              "  </style>\n",
              "\n",
              "      <script>\n",
              "        const buttonEl =\n",
              "          document.querySelector('#df-0a82feb6-c1df-4184-8f0a-4f89170cefe3 button.colab-df-convert');\n",
              "        buttonEl.style.display =\n",
              "          google.colab.kernel.accessAllowed ? 'block' : 'none';\n",
              "\n",
              "        async function convertToInteractive(key) {\n",
              "          const element = document.querySelector('#df-0a82feb6-c1df-4184-8f0a-4f89170cefe3');\n",
              "          const dataTable =\n",
              "            await google.colab.kernel.invokeFunction('convertToInteractive',\n",
              "                                                     [key], {});\n",
              "          if (!dataTable) return;\n",
              "\n",
              "          const docLinkHtml = 'Like what you see? Visit the ' +\n",
              "            '<a target=\"_blank\" href=https://colab.research.google.com/notebooks/data_table.ipynb>data table notebook</a>'\n",
              "            + ' to learn more about interactive tables.';\n",
              "          element.innerHTML = '';\n",
              "          dataTable['output_type'] = 'display_data';\n",
              "          await google.colab.output.renderOutput(dataTable, element);\n",
              "          const docLink = document.createElement('div');\n",
              "          docLink.innerHTML = docLinkHtml;\n",
              "          element.appendChild(docLink);\n",
              "        }\n",
              "      </script>\n",
              "    </div>\n",
              "  </div>\n",
              "  "
            ]
          },
          "metadata": {},
          "execution_count": 207
        }
      ],
      "source": [
        "pd.get_dummies(data_matches_model, columns=[\"Stage\"],prefix=[\"Stage_\"])"
      ]
    },
    {
      "cell_type": "code",
      "source": [],
      "metadata": {
        "id": "ugD4It52JtPK"
      },
      "execution_count": null,
      "outputs": []
    }
  ],
  "metadata": {
    "kernelspec": {
      "display_name": "Python 3.10.4 64-bit ('3.10.4')",
      "language": "python",
      "name": "python3"
    },
    "language_info": {
      "codemirror_mode": {
        "name": "ipython",
        "version": 3
      },
      "file_extension": ".py",
      "mimetype": "text/x-python",
      "name": "python",
      "nbconvert_exporter": "python",
      "pygments_lexer": "ipython3",
      "version": "3.10.4"
    },
    "orig_nbformat": 4,
    "vscode": {
      "interpreter": {
        "hash": "2fdca24a4758abedd58d89beec3a8b64b5a66383ee0e2246c58baa128030a261"
      }
    },
    "colab": {
      "provenance": []
    }
  },
  "nbformat": 4,
  "nbformat_minor": 0
}